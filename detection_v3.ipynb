{
 "cells": [
  {
   "cell_type": "code",
   "execution_count": 9,
   "metadata": {},
   "outputs": [
    {
     "name": "stderr",
     "output_type": "stream",
     "text": [
      "Using cache found in C:\\Users\\akist/.cache\\torch\\hub\\ultralytics_yolov5_master\n",
      "YOLOv5  2023-11-6 Python-3.11.6 torch-2.1.0+cpu CPU\n",
      "\n",
      "Fusing layers... \n",
      "Model summary: 157 layers, 7012822 parameters, 0 gradients, 15.8 GFLOPs\n",
      "Adding AutoShape... \n"
     ]
    },
    {
     "name": "stdout",
     "output_type": "stream",
     "text": [
      "Object detection completed. Results are saved in the 'result_images' directory and 'detection_results.txt'.\n"
     ]
    }
   ],
   "source": [
    "import os\n",
    "import cv2\n",
    "import torch\n",
    "import numpy as np\n",
    "\n",
    "# Ensure the output directories exist\n",
    "image_output_directory = 'result_images'\n",
    "os.makedirs(image_output_directory, exist_ok=True)\n",
    "\n",
    "# Load the trained model (ensure 'best.pt' is in your working directory or provide the full path)\n",
    "model = torch.hub.load('ultralytics/yolov5', 'custom', path='best(5).pt')\n",
    "\n",
    "# Directory containing images\n",
    "image_directory = 'test_images'\n",
    "image_paths = [os.path.join(image_directory, test_image) for test_image in os.listdir(image_directory) if test_image.endswith('.jpg')]\n",
    "\n",
    "# Output text file\n",
    "detection_results_file = 'detection_results.txt'\n",
    "with open(detection_results_file, 'w') as file:\n",
    "    file.write(\"Image Name, Object Detected, Number of Objects\\n\")\n",
    "\n",
    "# Function to perform object detection and save results\n",
    "def detect_and_save(image_path):\n",
    "    # Load image\n",
    "    image = cv2.imread(image_path)\n",
    "\n",
    "    # Perform inference\n",
    "    results = model(image)\n",
    "\n",
    "    # Determine the number of objects detected\n",
    "    n_objects = len(results.xyxy[0])  # Number of objects detected\n",
    "\n",
    "    # Write detection info to text file\n",
    "    with open(detection_results_file, 'a') as file:\n",
    "        file.write(f\"{os.path.basename(image_path)}, {'Yes' if n_objects > 0 else 'No'}, {n_objects}\\n\")\n",
    "\n",
    "    # Save result image\n",
    "    output_path = os.path.join(image_output_directory, os.path.basename(image_path))\n",
    "    result_image = np.squeeze(results.render())\n",
    "    cv2.imwrite(output_path, result_image)\n",
    "\n",
    "# Loop through images in the directory and perform detection\n",
    "for path in image_paths:\n",
    "    detect_and_save(path)\n",
    "\n",
    "print(f\"Object detection completed. Results are saved in the '{image_output_directory}' directory and '{detection_results_file}'.\")\n"
   ]
  }
 ],
 "metadata": {
  "kernelspec": {
   "display_name": "Python 3",
   "language": "python",
   "name": "python3"
  },
  "language_info": {
   "codemirror_mode": {
    "name": "ipython",
    "version": 3
   },
   "file_extension": ".py",
   "mimetype": "text/x-python",
   "name": "python",
   "nbconvert_exporter": "python",
   "pygments_lexer": "ipython3",
   "version": "3.11.6"
  }
 },
 "nbformat": 4,
 "nbformat_minor": 2
}
