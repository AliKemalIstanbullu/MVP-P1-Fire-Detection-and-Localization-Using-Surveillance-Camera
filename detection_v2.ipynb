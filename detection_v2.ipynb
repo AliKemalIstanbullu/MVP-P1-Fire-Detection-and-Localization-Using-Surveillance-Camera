{
 "cells": [
  {
   "cell_type": "code",
   "execution_count": null,
   "metadata": {},
   "outputs": [],
   "source": [
    "# !pip install roboflow"
   ]
  },
  {
   "cell_type": "code",
   "execution_count": 6,
   "metadata": {},
   "outputs": [
    {
     "name": "stdout",
     "output_type": "stream",
     "text": [
      "loading Roboflow workspace...\n",
      "loading Roboflow project...\n"
     ]
    },
    {
     "name": "stderr",
     "output_type": "stream",
     "text": [
      "Downloading Dataset Version Zip in fireDedection_rev2-3 to yolov5pytorch:: 100%|██████████| 8825/8825 [00:00<00:00, 18338.32it/s]"
     ]
    },
    {
     "name": "stdout",
     "output_type": "stream",
     "text": [
      "\n"
     ]
    },
    {
     "name": "stderr",
     "output_type": "stream",
     "text": [
      "\n",
      "Extracting Dataset Version Zip to fireDedection_rev2-3 in yolov5pytorch:: 100%|██████████| 358/358 [00:00<00:00, 1205.01it/s]\n"
     ]
    },
    {
     "ename": "AttributeError",
     "evalue": "'Dataset' object has no attribute 'Yolov5'",
     "output_type": "error",
     "traceback": [
      "\u001b[1;31m---------------------------------------------------------------------------\u001b[0m",
      "\u001b[1;31mAttributeError\u001b[0m                            Traceback (most recent call last)",
      "\u001b[1;32mc:\\Users\\akist\\OneDrive\\Documents\\B202A Class exercise\\detection_v2.ipynb Cell 2\u001b[0m line \u001b[0;36m9\n\u001b[0;32m      <a href='vscode-notebook-cell:/c%3A/Users/akist/OneDrive/Documents/B202A%20Class%20exercise/detection_v2.ipynb#W1sZmlsZQ%3D%3D?line=6'>7</a>\u001b[0m project \u001b[39m=\u001b[39m rf\u001b[39m.\u001b[39mworkspace(\u001b[39m\"\u001b[39m\u001b[39mdurhamcollege\u001b[39m\u001b[39m\"\u001b[39m)\u001b[39m.\u001b[39mproject(\u001b[39m\"\u001b[39m\u001b[39mfirededection_rev2\u001b[39m\u001b[39m\"\u001b[39m)\n\u001b[0;32m      <a href='vscode-notebook-cell:/c%3A/Users/akist/OneDrive/Documents/B202A%20Class%20exercise/detection_v2.ipynb#W1sZmlsZQ%3D%3D?line=7'>8</a>\u001b[0m dataset \u001b[39m=\u001b[39m project\u001b[39m.\u001b[39mversion(\u001b[39m3\u001b[39m)\u001b[39m.\u001b[39mdownload(\u001b[39m\"\u001b[39m\u001b[39myolov5\u001b[39m\u001b[39m\"\u001b[39m)\n\u001b[1;32m----> <a href='vscode-notebook-cell:/c%3A/Users/akist/OneDrive/Documents/B202A%20Class%20exercise/detection_v2.ipynb#W1sZmlsZQ%3D%3D?line=8'>9</a>\u001b[0m model \u001b[39m=\u001b[39m dataset\u001b[39m.\u001b[39;49mYolov5()  \u001b[39m# Adjust based on the actual API and ensure it is correct\u001b[39;00m\n\u001b[0;32m     <a href='vscode-notebook-cell:/c%3A/Users/akist/OneDrive/Documents/B202A%20Class%20exercise/detection_v2.ipynb#W1sZmlsZQ%3D%3D?line=10'>11</a>\u001b[0m \u001b[39m# Ensure the output directories exist\u001b[39;00m\n\u001b[0;32m     <a href='vscode-notebook-cell:/c%3A/Users/akist/OneDrive/Documents/B202A%20Class%20exercise/detection_v2.ipynb#W1sZmlsZQ%3D%3D?line=11'>12</a>\u001b[0m image_output_directory \u001b[39m=\u001b[39m \u001b[39m'\u001b[39m\u001b[39mresult_images\u001b[39m\u001b[39m'\u001b[39m\n",
      "\u001b[1;31mAttributeError\u001b[0m: 'Dataset' object has no attribute 'Yolov5'"
     ]
    }
   ],
   "source": [
    "import os\n",
    "import cv2\n",
    "from roboflow import Roboflow\n",
    "\n",
    "# Initialize Roboflow model\n",
    "rf = Roboflow(api_key=\"JEWphJwqR34McoBEUne9\")\n",
    "project = rf.workspace(\"durhamcollege\").project(\"firededection_rev2\")\n",
    "dataset = project.version(3).download(\"yolov5\")\n",
    "model = dataset.Yolov5()  # Adjust based on the actual API and ensure it is correct\n",
    "\n",
    "# Ensure the output directories exist\n",
    "image_output_directory = 'result_images'\n",
    "os.makedirs(image_output_directory, exist_ok=True)\n",
    "\n",
    "# Directory containing images\n",
    "image_directory = 'test_images'\n",
    "image_paths = [os.path.join(image_directory, test_image) for test_image in os.listdir(image_directory) if test_image.endswith('.jpg')]\n",
    "\n",
    "# Output text file\n",
    "detection_results_file = 'detection_results.txt'\n",
    "with open(detection_results_file, 'w') as file:\n",
    "    file.write(\"Image Name, Object Detected, Number of Objects\\n\")\n",
    "\n",
    "# Function to perform object detection and save results\n",
    "def detect_and_save(image_path, model):\n",
    "    # Load image\n",
    "    image = cv2.imread(image_path)\n",
    "\n",
    "    # Perform inference\n",
    "    results = model.predict(image_path)\n",
    "\n",
    "    # Determine the number of objects detected\n",
    "    n_objects = len(results[\"predictions\"])  # Number of objects detected\n",
    "\n",
    "    # Write detection info to text file\n",
    "    with open(detection_results_file, 'a') as file:\n",
    "        file.write(f\"{os.path.basename(image_path)}, {'Yes' if n_objects > 0 else 'No'}, {n_objects}\\n\")\n",
    "\n",
    "    # Save result image\n",
    "    output_path = os.path.join(image_output_directory, os.path.basename(image_path))\n",
    "    result_image = results.render()\n",
    "    cv2.imwrite(output_path, result_image)\n",
    "\n",
    "# Loop through images in the directory and perform detection\n",
    "for path in image_paths:\n",
    "    detect_and_save(path, model)\n",
    "\n",
    "print(f\"Object detection completed. Results are saved in the '{image_output_directory}' directory and '{detection_results_file}'.\")\n"
   ]
  }
 ],
 "metadata": {
  "kernelspec": {
   "display_name": "Python 3",
   "language": "python",
   "name": "python3"
  },
  "language_info": {
   "codemirror_mode": {
    "name": "ipython",
    "version": 3
   },
   "file_extension": ".py",
   "mimetype": "text/x-python",
   "name": "python",
   "nbconvert_exporter": "python",
   "pygments_lexer": "ipython3",
   "version": "3.11.6"
  }
 },
 "nbformat": 4,
 "nbformat_minor": 2
}
