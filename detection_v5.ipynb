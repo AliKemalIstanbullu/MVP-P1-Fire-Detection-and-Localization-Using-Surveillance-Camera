{
 "cells": [
  {
   "cell_type": "code",
   "execution_count": 1,
   "metadata": {},
   "outputs": [
    {
     "name": "stderr",
     "output_type": "stream",
     "text": [
      "Cloning into 'yolov5'...\n"
     ]
    }
   ],
   "source": [
    "git clone https://github.com/ultralytics/yolov5\n",
    "cd yolov5\n",
    "pip install -r requirements.txt\n",
    "\n"
   ]
  },
  {
   "cell_type": "code",
   "execution_count": 5,
   "metadata": {},
   "outputs": [
    {
     "name": "stderr",
     "output_type": "stream",
     "text": [
      "Using cache found in C:\\Users\\akist/.cache\\torch\\hub\\ultralytics_yolov5_master\n",
      "YOLOv5  2023-11-6 Python-3.11.6 torch-2.1.0+cpu CPU\n",
      "\n",
      "Fusing layers... \n",
      "Model summary: 157 layers, 7012822 parameters, 0 gradients, 15.8 GFLOPs\n",
      "Adding AutoShape... \n"
     ]
    },
    {
     "name": "stdout",
     "output_type": "stream",
     "text": [
      "Detection completed.\n"
     ]
    }
   ],
   "source": [
    "import os\n",
    "import torch\n",
    "from pathlib import Path\n",
    "from PIL import Image\n",
    "\n",
    "# Load model\n",
    "model = torch.hub.load('ultralytics/yolov5', 'custom', path='best.pt')  # Load custom model\n",
    "\n",
    "# Directories\n",
    "test_dir = Path(\"test_images\")\n",
    "result_dir = Path(\"result_images\")\n",
    "result_dir.mkdir(exist_ok=True)\n",
    "\n",
    "# Prepare results file and write headers\n",
    "with open(\"detection_results.txt\", \"w\") as results_file:\n",
    "    results_file.write(\"Image Name, Object Detected, Number of Objects\\n\")\n",
    "\n",
    "    # Iterate over test images\n",
    "    for image_path in test_dir.glob(\"*.jpg\"):\n",
    "        # Perform detection\n",
    "        results = model(image_path)\n",
    "\n",
    "        # Render detections on the image\n",
    "        rendered_imgs = results.render()\n",
    "\n",
    "        # Save detected image manually\n",
    "        save_path = result_dir / image_path.name\n",
    "        img = Image.fromarray(rendered_imgs[0])\n",
    "        img.save(save_path)\n",
    "\n",
    "        # Write detection info\n",
    "        detected_objects = results.pandas().xyxy[0]  # DataFrame with detection details\n",
    "        object_count = len(detected_objects)\n",
    "        object_names = detected_objects['name'].unique().tolist()\n",
    "        results_file.write(f\"{image_path.name}, {object_names}, {object_count}\\n\")\n",
    "\n",
    "print(\"Detection completed.\")\n"
   ]
  }
 ],
 "metadata": {
  "kernelspec": {
   "display_name": "Python 3",
   "language": "python",
   "name": "python3"
  },
  "language_info": {
   "codemirror_mode": {
    "name": "ipython",
    "version": 3
   },
   "file_extension": ".py",
   "mimetype": "text/x-python",
   "name": "python",
   "nbconvert_exporter": "python",
   "pygments_lexer": "ipython3",
   "version": "3.11.6"
  }
 },
 "nbformat": 4,
 "nbformat_minor": 2
}
