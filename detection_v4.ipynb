{
 "cells": [
  {
   "cell_type": "code",
   "execution_count": 7,
   "metadata": {},
   "outputs": [],
   "source": [
    "# DON'T run this code. It should runn once. I already runned no need!!!\n",
    "\n",
    "import torch\n",
    "import os\n",
    "from IPython.display import Image, clear_output\n",
    "\n",
    "from roboflow import Roboflow\n",
    "rf = Roboflow(api_key=\"JEWphJwqR34McoBEUne9\")\n",
    "project = rf.workspace(\"durhamcollege\").project(\"firededection_rev2\")\n",
    "dataset = project.version(1).download(\"yolov5\")"
   ]
  },
  {
   "cell_type": "markdown",
   "metadata": {},
   "source": [
    "Conclusion: \n",
    "Web page expected process steps\n",
    " 1. Download image as jpg format to \"C:\\Users\\akist\\OneDrive\\Documents\\B202A Class exercise\\test_images\"\n",
    " 2. Delete the last image in the \"C:\\Users\\akist\\OneDrive\\Documents\\MVP-P1-Fire-Detection-and-Localization-Using-Surveillance-Camera\\result_images\"\n",
    " 3. Run the second group part of python program\n",
    " 4. Load the image in the \"C:\\Users\\akist\\OneDrive\\Documents\\MVP-P1-Fire-Detection-and-Localization-Using-Surveillance-Camera\\test_images\" as \"Original Image\" to screen\n",
    " 5. Load the image in the \"C:\\Users\\akist\\OneDrive\\Documents\\MVP-P1-Fire-Detection-and-Localization-Using-Surveillance-Camera\\result_images\" as \"Processed Image\" to screen\n",
    " 6. Wait for the restart process"
   ]
  },
  {
   "cell_type": "code",
   "execution_count": 3,
   "metadata": {},
   "outputs": [
    {
     "name": "stdout",
     "output_type": "stream",
     "text": [
      "Files copied and source directory cleaned up successfully.\n"
     ]
    },
    {
     "name": "stderr",
     "output_type": "stream",
     "text": [
      "\u001b[34m\u001b[1mdetect: \u001b[0mweights=['C:\\\\\\\\Users\\\\\\\\akist\\\\\\\\OneDrive\\\\\\\\Documents\\\\\\\\MVP-P1-Fire-Detection-and-Localization-Using-Surveillance-Camera\\\\\\\\best(3).pt'], source=C:\\\\Users\\\\akist\\\\OneDrive\\\\Documents\\\\MVP-P1-Fire-Detection-and-Localization-Using-Surveillance-Camera\\\\test_images, data=yolov5\\data\\coco128.yaml, imgsz=[171, 171], conf_thres=0.2, iou_thres=0.45, max_det=1000, device=, view_img=False, save_txt=False, save_csv=False, save_conf=False, save_crop=False, nosave=False, classes=None, agnostic_nms=False, augment=False, visualize=False, update=False, project=yolov5\\runs\\detect, name=exp, exist_ok=False, line_thickness=3, hide_labels=False, hide_conf=False, half=False, dnn=False, vid_stride=1\n",
      "YOLOv5  2023-11-8 Python-3.11.6 torch-2.1.0+cpu CPU\n",
      "\n",
      "Fusing layers... \n",
      "Model summary: 157 layers, 7012822 parameters, 0 gradients, 15.8 GFLOPs\n",
      "WARNING  --img-size [171, 171] must be multiple of max stride 32, updating to [192, 192]\n",
      "image 1/14 C:\\Users\\akist\\OneDrive\\Documents\\MVP-P1-Fire-Detection-and-Localization-Using-Surveillance-Camera\\test_images\\images57.jpg: 160x192 6 fires, 60.6ms\n",
      "image 2/14 C:\\Users\\akist\\OneDrive\\Documents\\MVP-P1-Fire-Detection-and-Localization-Using-Surveillance-Camera\\test_images\\images58.jpg: 160x192 4 fires, 45.0ms\n",
      "image 3/14 C:\\Users\\akist\\OneDrive\\Documents\\MVP-P1-Fire-Detection-and-Localization-Using-Surveillance-Camera\\test_images\\images59.jpeg: 128x192 4 fires, 56.0ms\n",
      "image 4/14 C:\\Users\\akist\\OneDrive\\Documents\\MVP-P1-Fire-Detection-and-Localization-Using-Surveillance-Camera\\test_images\\images60.jpg: 192x192 4 fires, 66.6ms\n",
      "image 5/14 C:\\Users\\akist\\OneDrive\\Documents\\MVP-P1-Fire-Detection-and-Localization-Using-Surveillance-Camera\\test_images\\images61.jpg: 128x192 2 fires, 41.0ms\n",
      "image 6/14 C:\\Users\\akist\\OneDrive\\Documents\\MVP-P1-Fire-Detection-and-Localization-Using-Surveillance-Camera\\test_images\\images64.jpg: 128x192 1 fire, 35.0ms\n",
      "image 7/14 C:\\Users\\akist\\OneDrive\\Documents\\MVP-P1-Fire-Detection-and-Localization-Using-Surveillance-Camera\\test_images\\images65.jpg: 128x192 4 fires, 36.0ms\n",
      "image 8/14 C:\\Users\\akist\\OneDrive\\Documents\\MVP-P1-Fire-Detection-and-Localization-Using-Surveillance-Camera\\test_images\\images66.jpg: 128x192 1 fire, 38.5ms\n",
      "image 9/14 C:\\Users\\akist\\OneDrive\\Documents\\MVP-P1-Fire-Detection-and-Localization-Using-Surveillance-Camera\\test_images\\test_image.jpg: 128x192 3 fires, 44.8ms\n",
      "image 10/14 C:\\Users\\akist\\OneDrive\\Documents\\MVP-P1-Fire-Detection-and-Localization-Using-Surveillance-Camera\\test_images\\test_image1.jpg: 128x192 4 fires, 51.1ms\n",
      "image 11/14 C:\\Users\\akist\\OneDrive\\Documents\\MVP-P1-Fire-Detection-and-Localization-Using-Surveillance-Camera\\test_images\\test_image3.jpg: 160x192 6 fires, 48.5ms\n",
      "image 12/14 C:\\Users\\akist\\OneDrive\\Documents\\MVP-P1-Fire-Detection-and-Localization-Using-Surveillance-Camera\\test_images\\test_image4.jpg: 160x192 4 fires, 49.7ms\n",
      "image 13/14 C:\\Users\\akist\\OneDrive\\Documents\\MVP-P1-Fire-Detection-and-Localization-Using-Surveillance-Camera\\test_images\\test_image5.jpeg: 128x192 4 fires, 44.3ms\n",
      "image 14/14 C:\\Users\\akist\\OneDrive\\Documents\\MVP-P1-Fire-Detection-and-Localization-Using-Surveillance-Camera\\test_images\\test_image6.jpg: 192x192 4 fires, 59.0ms\n",
      "Speed: 0.2ms pre-process, 48.3ms inference, 0.7ms NMS per image at shape (1, 3, 192, 192)\n",
      "Results saved to \u001b[1myolov5\\runs\\detect\\exp\u001b[0m\n"
     ]
    }
   ],
   "source": [
    "# Only run this one line code. It read jpg files independent from name and save the reult to \"yolov5\\runs\\detect\\exp\" directory.\n",
    "\n",
    "!python \"C:\\Users\\akist\\OneDrive\\Documents\\MVP-P1-Fire-Detection-and-Localization-Using-Surveillance-Camera\\yolov5\\detect.py\" --weights \"C:\\\\Users\\\\akist\\\\OneDrive\\\\Documents\\\\MVP-P1-Fire-Detection-and-Localization-Using-Surveillance-Camera\\\\best.pt\" --img 171 --conf 0.2 --source \"C:\\\\Users\\\\akist\\\\OneDrive\\\\Documents\\\\MVP-P1-Fire-Detection-and-Localization-Using-Surveillance-Camera\\\\test_images\"\n",
    "\n",
    "# This program part copies result image to \"C:\\Users\\akist\\OneDrive\\Documents\\MVP-P1-Fire-Detection-and-Localization-Using-Surveillance-Camera\\result_images\" and deletes folder \"C:\\Users\\akist\\OneDrive\\Documents\\MVP-P1-Fire-Detection-and-Localization-Using-Surveillance-Camera\\yolov5\\runs\\detect\\exp\" and image file afterwards.  \n",
    "import os\n",
    "import shutil\n",
    "\n",
    "# Source directory where YOLOv5 saves the output images\n",
    "source_dir = r\"C:\\Users\\akist\\OneDrive\\Documents\\MVP-P1-Fire-Detection-and-Localization-Using-Surveillance-Camera\\yolov5\\runs\\detect\\exp\"\n",
    "\n",
    "# Destination directory where you want to copy the images\n",
    "dest_dir = r\"C:\\Users\\akist\\OneDrive\\Documents\\MVP-P1-Fire-Detection-and-Localization-Using-Surveillance-Camera\\result_images\"\n",
    "\n",
    "# Check if the destination directory exists, if not, create it\n",
    "if not os.path.exists(dest_dir):\n",
    "    os.makedirs(dest_dir)\n",
    "\n",
    "# Copy each file from the source directory to the destination directory\n",
    "for filename in os.listdir(source_dir):\n",
    "    if filename.endswith('.jpg') or filename.endswith('.png'):  # Check for image files\n",
    "        shutil.copy(os.path.join(source_dir, filename), dest_dir)\n",
    "\n",
    "# After copying, delete the files in the source directory\n",
    "for filename in os.listdir(source_dir):\n",
    "    file_path = os.path.join(source_dir, filename)\n",
    "    if os.path.isfile(file_path) or os.path.islink(file_path):\n",
    "        os.unlink(file_path)\n",
    "\n",
    "# Finally, delete the source directory\n",
    "os.rmdir(source_dir)\n",
    "\n",
    "print(\"Files copied and source directory cleaned up successfully.\")\n",
    "\n",
    "\n"
   ]
  }
 ],
 "metadata": {
  "kernelspec": {
   "display_name": "Python 3",
   "language": "python",
   "name": "python3"
  },
  "language_info": {
   "codemirror_mode": {
    "name": "ipython",
    "version": 3
   },
   "file_extension": ".py",
   "mimetype": "text/x-python",
   "name": "python",
   "nbconvert_exporter": "python",
   "pygments_lexer": "ipython3",
   "version": "3.11.6"
  }
 },
 "nbformat": 4,
 "nbformat_minor": 2
}
